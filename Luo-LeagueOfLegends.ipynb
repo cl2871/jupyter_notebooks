{
 "cells": [
  {
   "cell_type": "markdown",
   "metadata": {},
   "source": [
    "# League of Legends NA Challenger Analysis\n",
    "### By: Chris Luo    \n",
    "\n",
    "#### Overview\n",
    "\n",
    "For my Data Bootcamp project, I analyzed some factors that could correlate to a player's win rate in the popular MOBA game League of Legends. Using the open-source library [Cassiopeia](http://cassiopeia.readthedocs.io/en/latest/index.html) as well as the developer key linked to my League of Legends account, I was able to pull the data of players in the Challenger tier (top 200 players) on the North American server. \n",
    "\n",
    "Since my analysis was performed only on players in NA Challenger, its implications should not be considered broadly with respect to the general playerbase. Additionally, since the data is on ranked statistics for the current season (season 7) and there are various factors (team composition, champion-specific proficiency, team communication, etc.) that can lead to victory/defeat, this analysis is far from conclusive. Nevertheless, this analysis can provide some interesting insights into the highest level of play. Hopefully you have as much fun reading this as I did making this!\n",
    "\n",
    "#### Analysis and Disclaimers\n",
    "A simple multivariable linear regression analysis will be performed with win rate as the dependent variable. The normality of the distribution will be evaluated, and the Ordinary Least Squares method will be utilized to generate regression results for the test model. Since this is a simple experiment/exercise in Python, this project will not explore heteroskedasticity, specification bias, collinearity, and other concerns. In turn, the results from this project should not be treated as particularly substantial.\n",
    "\n",
    "#### Cassiopeia\n",
    "Cassiopeia is an open source library used to access Riot API. Installing Cassiopeia will also naturally install SQLAlchemy.\n",
    "\n",
    "##### command:\n",
    "`\n",
    "pip install cassiopeia   \n",
    "`"
   ]
  },
  {
   "cell_type": "markdown",
   "metadata": {},
   "source": [
    "## Setup\n",
    "In the following steps, I import necessary modules and access the Riot Games API to pull data on the players in NA Challenger."
   ]
  },
  {
   "cell_type": "code",
   "execution_count": 1,
   "metadata": {
    "collapsed": false
   },
   "outputs": [],
   "source": [
    "import os                                             # to access system environment variables\n",
    "import pandas as pd                                   # data management\n",
    "import seaborn as sns                                 # for data visualization\n",
    "import matplotlib.pyplot as plt                       # for plots\n",
    "import statsmodels.formula.api as smf                 # for regression output\n",
    "import datetime as dt                                 # date information\n",
    "from cassiopeia import riotapi                        # to access Riot Games API\n",
    "from cassiopeia.type.core.common import LoadPolicy    # to utilize delayed loading policy\n",
    "\n",
    "# IPython command, puts plots in notebook \n",
    "%matplotlib inline"
   ]
  },
  {
   "cell_type": "code",
   "execution_count": 2,
   "metadata": {
    "collapsed": false
   },
   "outputs": [
    {
     "name": "stdout",
     "output_type": "stream",
     "text": [
      "Last Updated 2017-05-11\n"
     ]
    }
   ],
   "source": [
    "print('Last Updated', dt.date.today())"
   ]
  },
  {
   "cell_type": "code",
   "execution_count": 3,
   "metadata": {
    "collapsed": false
   },
   "outputs": [],
   "source": [
    "riotapi.set_region(\"NA\")                              # sets the region to North America (rip Dyrus)\n",
    "key = os.environ[\"DEV_KEY\"]                           # grabs my API key from my environment variables\n",
    "riotapi.set_api_key(key)                              # my dev key is specific to my account\n",
    "riotapi.set_load_policy(LoadPolicy.lazy)              # lazy -> delays loading certain objects for improved time + data usage"
   ]
  },
  {
   "cell_type": "markdown",
   "metadata": {},
   "source": [
    "### Challenger Data\n",
    "The players in Challenger tier are retrieved and stored in challenger_league, a 'League' object. Afterwards, the 'Summoner' object of each entry/player is taken and stored in the list called challenger."
   ]
  },
  {
   "cell_type": "code",
   "execution_count": 4,
   "metadata": {
    "collapsed": false
   },
   "outputs": [
    {
     "data": {
      "text/plain": [
       "<cassiopeia.type.core.league.League at 0x1e765bd66a0>"
      ]
     },
     "execution_count": 4,
     "metadata": {},
     "output_type": "execute_result"
    }
   ],
   "source": [
    "challenger_league = riotapi.get_challenger()\n",
    "challenger_league"
   ]
  },
  {
   "cell_type": "code",
   "execution_count": 5,
   "metadata": {
    "collapsed": false
   },
   "outputs": [],
   "source": [
    "challenger = [entry.summoner for entry in challenger_league]"
   ]
  },
  {
   "cell_type": "code",
   "execution_count": 6,
   "metadata": {
    "collapsed": false
   },
   "outputs": [
    {
     "data": {
      "text/plain": [
       "<cassiopeia.type.core.summoner.Summoner at 0x1e76b0a6940>"
      ]
     },
     "execution_count": 6,
     "metadata": {},
     "output_type": "execute_result"
    }
   ],
   "source": [
    "challenger[0] #summoner.Summoner object of highest rank player in challenger"
   ]
  },
  {
   "cell_type": "code",
   "execution_count": 7,
   "metadata": {
    "collapsed": false
   },
   "outputs": [
    {
     "data": {
      "text/plain": [
       "'consensual clown'"
      ]
     },
     "execution_count": 7,
     "metadata": {},
     "output_type": "execute_result"
    }
   ],
   "source": [
    "challenger[0].name"
   ]
  },
  {
   "cell_type": "markdown",
   "metadata": {},
   "source": [
    "The method below returns a dictionary of ranked statistics for a player based on the champion played. Using the key [None] returns aggregate ranked statistics of all champions played by the summoner. This aggregate data can be pulled in JSON format.\n",
    "```\n",
    "challenger[0].ranked_stats()\n",
    "```"
   ]
  },
  {
   "cell_type": "code",
   "execution_count": 8,
   "metadata": {
    "collapsed": false
   },
   "outputs": [
    {
     "data": {
      "text/plain": [
       "<cassiopeia.type.core.stats.AggregatedStats at 0x1e76b7b0b00>"
      ]
     },
     "execution_count": 8,
     "metadata": {},
     "output_type": "execute_result"
    }
   ],
   "source": [
    "challenger[0].ranked_stats()[None] "
   ]
  },
  {
   "cell_type": "code",
   "execution_count": 9,
   "metadata": {
    "collapsed": false,
    "scrolled": true
   },
   "outputs": [
    {
     "data": {
      "text/plain": [
       "'{\\n    \"averageAssists\": 0,\\n    \"averageChampionsKilled\": 0,\\n    \"averageCombatPlayerScore\": 0,\\n    \"averageNodeCapture\": 0,\\n    \"averageNodeCaptureAssist\": 0,\\n    \"averageNodeNeutralize\": 0,\\n    \"averageNodeNeutralizeAssist\": 0,\\n    \"averageNumDeaths\": 0,\\n    \"averageObjectivePlayerScore\": 0,\\n    \"averageTeamObjective\": 0,\\n    \"averageTotalPlayerScore\": 0,\\n    \"botGamesPlayed\": 0,\\n    \"killingSpree\": 1257,\\n    \"maxAssists\": 0,\\n    \"maxChampionsKilled\": 23,\\n    \"maxCombatPlayerScore\": 0,\\n    \"maxLargestCriticalStrike\": 2800,\\n    \"maxLargestKillingSpree\": 10,\\n    \"maxNodeCapture\": 0,\\n    \"maxNodeCaptureAssist\": 0,\\n    \"maxNodeNeutralize\": 0,\\n    \"maxNodeNeutralizeAssist\": 0,\\n    \"maxNumDeaths\": 14,\\n    \"maxObjectivePlayerScore\": 0,\\n    \"maxTeamObjective\": 0,\\n    \"maxTimePlayed\": 2956,\\n    \"maxTimeSpentLiving\": 1602,\\n    \"maxTotalPlayerScore\": 0,\\n    \"mostChampionKillsPerSession\": 23,\\n    \"mostSpellsCast\": 0,\\n    \"normalGamesPlayed\": 0,\\n    \"rankedPremadeGamesPlayed\": 0,\\n    \"rankedSoloGamesPlayed\": 0,\\n    \"totalAssists\": 5135,\\n    \"totalChampionKills\": 2669,\\n    \"totalDamageDealt\": 49233076,\\n    \"totalDamageTaken\": 9316612,\\n    \"totalDeathsPerSession\": 2865,\\n    \"totalDoubleKills\": 269,\\n    \"totalFirstBlood\": 0,\\n    \"totalGoldEarned\": 5777960,\\n    \"totalHeal\": 2652755,\\n    \"totalMagicDamageDealt\": 14400548,\\n    \"totalMinionKills\": 57626,\\n    \"totalNeutralMinionsKilled\": 3958,\\n    \"totalNodeCapture\": 0,\\n    \"totalNodeNeutralize\": 0,\\n    \"totalPentaKills\": 1,\\n    \"totalPhysicalDamageDealt\": 33695993,\\n    \"totalQuadraKills\": 6,\\n    \"totalSessionsLost\": 234,\\n    \"totalSessionsPlayed\": 544,\\n    \"totalSessionsWon\": 310,\\n    \"totalTripleKills\": 26,\\n    \"totalTurretsKilled\": 580,\\n    \"totalUnrealKills\": 0\\n}'"
      ]
     },
     "execution_count": 9,
     "metadata": {},
     "output_type": "execute_result"
    }
   ],
   "source": [
    "challenger[0].ranked_stats()[None].to_json() #returns data in JSON format"
   ]
  },
  {
   "cell_type": "markdown",
   "metadata": {},
   "source": [
    "## DataFrame\n",
    "The ranked stats of each player in Challenger for the current season is converted into a series (list-like structure), then appended into a dataframe (matrix-like structure). This dataframe has player data as row entries and ranked statistics by columns."
   ]
  },
  {
   "cell_type": "code",
   "execution_count": 10,
   "metadata": {
    "collapsed": true
   },
   "outputs": [],
   "source": [
    "df = pd.DataFrame()\n",
    "for player in challenger:\n",
    "    stats = pd.read_json(player.ranked_stats()[None].to_json(), typ = 'series')\n",
    "    df = df.append(stats, ignore_index=True)"
   ]
  },
  {
   "cell_type": "markdown",
   "metadata": {},
   "source": [
    "Below is a view of the dataframe for the top 5 players. Several of the fields are left as 0.0 as information for them are not recorded for ranked statistics."
   ]
  },
  {
   "cell_type": "code",
   "execution_count": 11,
   "metadata": {
    "collapsed": false,
    "scrolled": false
   },
   "outputs": [
    {
     "data": {
      "text/html": [
       "<div>\n",
       "<table border=\"1\" class=\"dataframe\">\n",
       "  <thead>\n",
       "    <tr style=\"text-align: right;\">\n",
       "      <th></th>\n",
       "      <th>averageAssists</th>\n",
       "      <th>averageChampionsKilled</th>\n",
       "      <th>averageCombatPlayerScore</th>\n",
       "      <th>averageNodeCapture</th>\n",
       "      <th>averageNodeCaptureAssist</th>\n",
       "      <th>averageNodeNeutralize</th>\n",
       "      <th>averageNodeNeutralizeAssist</th>\n",
       "      <th>averageNumDeaths</th>\n",
       "      <th>averageObjectivePlayerScore</th>\n",
       "      <th>averageTeamObjective</th>\n",
       "      <th>...</th>\n",
       "      <th>totalNodeNeutralize</th>\n",
       "      <th>totalPentaKills</th>\n",
       "      <th>totalPhysicalDamageDealt</th>\n",
       "      <th>totalQuadraKills</th>\n",
       "      <th>totalSessionsLost</th>\n",
       "      <th>totalSessionsPlayed</th>\n",
       "      <th>totalSessionsWon</th>\n",
       "      <th>totalTripleKills</th>\n",
       "      <th>totalTurretsKilled</th>\n",
       "      <th>totalUnrealKills</th>\n",
       "    </tr>\n",
       "  </thead>\n",
       "  <tbody>\n",
       "    <tr>\n",
       "      <th>0</th>\n",
       "      <td>0.0</td>\n",
       "      <td>0.0</td>\n",
       "      <td>0.0</td>\n",
       "      <td>0.0</td>\n",
       "      <td>0.0</td>\n",
       "      <td>0.0</td>\n",
       "      <td>0.0</td>\n",
       "      <td>0.0</td>\n",
       "      <td>0.0</td>\n",
       "      <td>0.0</td>\n",
       "      <td>...</td>\n",
       "      <td>0.0</td>\n",
       "      <td>1.0</td>\n",
       "      <td>33695993.0</td>\n",
       "      <td>6.0</td>\n",
       "      <td>234.0</td>\n",
       "      <td>544.0</td>\n",
       "      <td>310.0</td>\n",
       "      <td>26.0</td>\n",
       "      <td>580.0</td>\n",
       "      <td>0.0</td>\n",
       "    </tr>\n",
       "    <tr>\n",
       "      <th>1</th>\n",
       "      <td>0.0</td>\n",
       "      <td>0.0</td>\n",
       "      <td>0.0</td>\n",
       "      <td>0.0</td>\n",
       "      <td>0.0</td>\n",
       "      <td>0.0</td>\n",
       "      <td>0.0</td>\n",
       "      <td>0.0</td>\n",
       "      <td>0.0</td>\n",
       "      <td>0.0</td>\n",
       "      <td>...</td>\n",
       "      <td>0.0</td>\n",
       "      <td>2.0</td>\n",
       "      <td>27467761.0</td>\n",
       "      <td>8.0</td>\n",
       "      <td>278.0</td>\n",
       "      <td>619.0</td>\n",
       "      <td>341.0</td>\n",
       "      <td>63.0</td>\n",
       "      <td>734.0</td>\n",
       "      <td>0.0</td>\n",
       "    </tr>\n",
       "    <tr>\n",
       "      <th>2</th>\n",
       "      <td>0.0</td>\n",
       "      <td>0.0</td>\n",
       "      <td>0.0</td>\n",
       "      <td>0.0</td>\n",
       "      <td>0.0</td>\n",
       "      <td>0.0</td>\n",
       "      <td>0.0</td>\n",
       "      <td>0.0</td>\n",
       "      <td>0.0</td>\n",
       "      <td>0.0</td>\n",
       "      <td>...</td>\n",
       "      <td>0.0</td>\n",
       "      <td>0.0</td>\n",
       "      <td>26591653.0</td>\n",
       "      <td>5.0</td>\n",
       "      <td>266.0</td>\n",
       "      <td>593.0</td>\n",
       "      <td>327.0</td>\n",
       "      <td>39.0</td>\n",
       "      <td>643.0</td>\n",
       "      <td>0.0</td>\n",
       "    </tr>\n",
       "    <tr>\n",
       "      <th>3</th>\n",
       "      <td>0.0</td>\n",
       "      <td>0.0</td>\n",
       "      <td>0.0</td>\n",
       "      <td>0.0</td>\n",
       "      <td>0.0</td>\n",
       "      <td>0.0</td>\n",
       "      <td>0.0</td>\n",
       "      <td>0.0</td>\n",
       "      <td>0.0</td>\n",
       "      <td>0.0</td>\n",
       "      <td>...</td>\n",
       "      <td>0.0</td>\n",
       "      <td>0.0</td>\n",
       "      <td>23239757.0</td>\n",
       "      <td>2.0</td>\n",
       "      <td>155.0</td>\n",
       "      <td>367.0</td>\n",
       "      <td>212.0</td>\n",
       "      <td>34.0</td>\n",
       "      <td>328.0</td>\n",
       "      <td>0.0</td>\n",
       "    </tr>\n",
       "    <tr>\n",
       "      <th>4</th>\n",
       "      <td>0.0</td>\n",
       "      <td>0.0</td>\n",
       "      <td>0.0</td>\n",
       "      <td>0.0</td>\n",
       "      <td>0.0</td>\n",
       "      <td>0.0</td>\n",
       "      <td>0.0</td>\n",
       "      <td>0.0</td>\n",
       "      <td>0.0</td>\n",
       "      <td>0.0</td>\n",
       "      <td>...</td>\n",
       "      <td>0.0</td>\n",
       "      <td>2.0</td>\n",
       "      <td>63875407.0</td>\n",
       "      <td>11.0</td>\n",
       "      <td>218.0</td>\n",
       "      <td>496.0</td>\n",
       "      <td>278.0</td>\n",
       "      <td>52.0</td>\n",
       "      <td>759.0</td>\n",
       "      <td>0.0</td>\n",
       "    </tr>\n",
       "  </tbody>\n",
       "</table>\n",
       "<p>5 rows × 56 columns</p>\n",
       "</div>"
      ],
      "text/plain": [
       "   averageAssists  averageChampionsKilled  averageCombatPlayerScore  \\\n",
       "0             0.0                     0.0                       0.0   \n",
       "1             0.0                     0.0                       0.0   \n",
       "2             0.0                     0.0                       0.0   \n",
       "3             0.0                     0.0                       0.0   \n",
       "4             0.0                     0.0                       0.0   \n",
       "\n",
       "   averageNodeCapture  averageNodeCaptureAssist  averageNodeNeutralize  \\\n",
       "0                 0.0                       0.0                    0.0   \n",
       "1                 0.0                       0.0                    0.0   \n",
       "2                 0.0                       0.0                    0.0   \n",
       "3                 0.0                       0.0                    0.0   \n",
       "4                 0.0                       0.0                    0.0   \n",
       "\n",
       "   averageNodeNeutralizeAssist  averageNumDeaths  averageObjectivePlayerScore  \\\n",
       "0                          0.0               0.0                          0.0   \n",
       "1                          0.0               0.0                          0.0   \n",
       "2                          0.0               0.0                          0.0   \n",
       "3                          0.0               0.0                          0.0   \n",
       "4                          0.0               0.0                          0.0   \n",
       "\n",
       "   averageTeamObjective        ...         totalNodeNeutralize  \\\n",
       "0                   0.0        ...                         0.0   \n",
       "1                   0.0        ...                         0.0   \n",
       "2                   0.0        ...                         0.0   \n",
       "3                   0.0        ...                         0.0   \n",
       "4                   0.0        ...                         0.0   \n",
       "\n",
       "   totalPentaKills  totalPhysicalDamageDealt  totalQuadraKills  \\\n",
       "0              1.0                33695993.0               6.0   \n",
       "1              2.0                27467761.0               8.0   \n",
       "2              0.0                26591653.0               5.0   \n",
       "3              0.0                23239757.0               2.0   \n",
       "4              2.0                63875407.0              11.0   \n",
       "\n",
       "   totalSessionsLost  totalSessionsPlayed  totalSessionsWon  totalTripleKills  \\\n",
       "0              234.0                544.0             310.0              26.0   \n",
       "1              278.0                619.0             341.0              63.0   \n",
       "2              266.0                593.0             327.0              39.0   \n",
       "3              155.0                367.0             212.0              34.0   \n",
       "4              218.0                496.0             278.0              52.0   \n",
       "\n",
       "   totalTurretsKilled  totalUnrealKills  \n",
       "0               580.0               0.0  \n",
       "1               734.0               0.0  \n",
       "2               643.0               0.0  \n",
       "3               328.0               0.0  \n",
       "4               759.0               0.0  \n",
       "\n",
       "[5 rows x 56 columns]"
      ]
     },
     "execution_count": 11,
     "metadata": {},
     "output_type": "execute_result"
    }
   ],
   "source": [
    "df.head()"
   ]
  },
  {
   "cell_type": "code",
   "execution_count": 12,
   "metadata": {
    "collapsed": false
   },
   "outputs": [
    {
     "data": {
      "text/plain": [
       "(200, 56)"
      ]
     },
     "execution_count": 12,
     "metadata": {},
     "output_type": "execute_result"
    }
   ],
   "source": [
    "df.shape #200 player entries, 56 field columns"
   ]
  },
  {
   "cell_type": "code",
   "execution_count": 13,
   "metadata": {
    "collapsed": false,
    "scrolled": false
   },
   "outputs": [
    {
     "data": {
      "text/plain": [
       "Index(['averageAssists', 'averageChampionsKilled', 'averageCombatPlayerScore',\n",
       "       'averageNodeCapture', 'averageNodeCaptureAssist',\n",
       "       'averageNodeNeutralize', 'averageNodeNeutralizeAssist',\n",
       "       'averageNumDeaths', 'averageObjectivePlayerScore',\n",
       "       'averageTeamObjective', 'averageTotalPlayerScore', 'botGamesPlayed',\n",
       "       'killingSpree', 'maxAssists', 'maxChampionsKilled',\n",
       "       'maxCombatPlayerScore', 'maxLargestCriticalStrike',\n",
       "       'maxLargestKillingSpree', 'maxNodeCapture', 'maxNodeCaptureAssist',\n",
       "       'maxNodeNeutralize', 'maxNodeNeutralizeAssist', 'maxNumDeaths',\n",
       "       'maxObjectivePlayerScore', 'maxTeamObjective', 'maxTimePlayed',\n",
       "       'maxTimeSpentLiving', 'maxTotalPlayerScore',\n",
       "       'mostChampionKillsPerSession', 'mostSpellsCast', 'normalGamesPlayed',\n",
       "       'rankedPremadeGamesPlayed', 'rankedSoloGamesPlayed', 'totalAssists',\n",
       "       'totalChampionKills', 'totalDamageDealt', 'totalDamageTaken',\n",
       "       'totalDeathsPerSession', 'totalDoubleKills', 'totalFirstBlood',\n",
       "       'totalGoldEarned', 'totalHeal', 'totalMagicDamageDealt',\n",
       "       'totalMinionKills', 'totalNeutralMinionsKilled', 'totalNodeCapture',\n",
       "       'totalNodeNeutralize', 'totalPentaKills', 'totalPhysicalDamageDealt',\n",
       "       'totalQuadraKills', 'totalSessionsLost', 'totalSessionsPlayed',\n",
       "       'totalSessionsWon', 'totalTripleKills', 'totalTurretsKilled',\n",
       "       'totalUnrealKills'],\n",
       "      dtype='object')"
      ]
     },
     "execution_count": 13,
     "metadata": {},
     "output_type": "execute_result"
    }
   ],
   "source": [
    "df.columns"
   ]
  },
  {
   "cell_type": "markdown",
   "metadata": {},
   "source": [
    "Note: following code not updated, but still correctly conveys that all fields are of datatype float"
   ]
  },
  {
   "cell_type": "code",
   "execution_count": 16,
   "metadata": {
    "collapsed": false,
    "scrolled": true
   },
   "outputs": [
    {
     "data": {
      "text/plain": [
       "averageAssists                 float64\n",
       "averageChampionsKilled         float64\n",
       "averageCombatPlayerScore       float64\n",
       "averageNodeCapture             float64\n",
       "averageNodeCaptureAssist       float64\n",
       "averageNodeNeutralize          float64\n",
       "averageNodeNeutralizeAssist    float64\n",
       "averageNumDeaths               float64\n",
       "averageObjectivePlayerScore    float64\n",
       "averageTeamObjective           float64\n",
       "averageTotalPlayerScore        float64\n",
       "botGamesPlayed                 float64\n",
       "killingSpree                   float64\n",
       "maxAssists                     float64\n",
       "maxChampionsKilled             float64\n",
       "maxCombatPlayerScore           float64\n",
       "maxLargestCriticalStrike       float64\n",
       "maxLargestKillingSpree         float64\n",
       "maxNodeCapture                 float64\n",
       "maxNodeCaptureAssist           float64\n",
       "maxNodeNeutralize              float64\n",
       "maxNodeNeutralizeAssist        float64\n",
       "maxNumDeaths                   float64\n",
       "maxObjectivePlayerScore        float64\n",
       "maxTeamObjective               float64\n",
       "maxTimePlayed                  float64\n",
       "maxTimeSpentLiving             float64\n",
       "maxTotalPlayerScore            float64\n",
       "mostChampionKillsPerSession    float64\n",
       "mostSpellsCast                 float64\n",
       "normalGamesPlayed              float64\n",
       "rankedPremadeGamesPlayed       float64\n",
       "rankedSoloGamesPlayed          float64\n",
       "totalAssists                   float64\n",
       "totalChampionKills             float64\n",
       "totalDamageDealt               float64\n",
       "totalDamageTaken               float64\n",
       "totalDeathsPerSession          float64\n",
       "totalDoubleKills               float64\n",
       "totalFirstBlood                float64\n",
       "totalGoldEarned                float64\n",
       "totalHeal                      float64\n",
       "totalMagicDamageDealt          float64\n",
       "totalMinionKills               float64\n",
       "totalNeutralMinionsKilled      float64\n",
       "totalNodeCapture               float64\n",
       "totalNodeNeutralize            float64\n",
       "totalPentaKills                float64\n",
       "totalPhysicalDamageDealt       float64\n",
       "totalQuadraKills               float64\n",
       "totalSessionsLost              float64\n",
       "totalSessionsPlayed            float64\n",
       "totalSessionsWon               float64\n",
       "totalTripleKills               float64\n",
       "totalTurretsKilled             float64\n",
       "totalUnrealKills               float64\n",
       "averageKills                   float64\n",
       "averageDeaths                  float64\n",
       "winRate                        float64\n",
       "averageGoldEarned              float64\n",
       "dtype: object"
      ]
     },
     "execution_count": 16,
     "metadata": {},
     "output_type": "execute_result"
    }
   ],
   "source": [
    "df.dtypes #all values are floats"
   ]
  },
  {
   "cell_type": "markdown",
   "metadata": {},
   "source": [
    "### Data Manipulation\n",
    "Since some of the fields I wanted were not available or were filled with 0.0s, I decided to add in fields to the dataframe for future usage. Below, average assists, average kills, average deaths, win rate, and average gold earned have been included."
   ]
  },
  {
   "cell_type": "code",
   "execution_count": 14,
   "metadata": {
    "collapsed": true
   },
   "outputs": [],
   "source": [
    "df['averageAssists'] = df['totalAssists']/df['totalSessionsPlayed']            # will overwrite the 'averageAssists' field\n",
    "df['averageKills'] = df['totalChampionKills']/df['totalSessionsPlayed']\n",
    "df['averageDeaths'] = df['totalDeathsPerSession']/df['totalSessionsPlayed']\n",
    "df['winRate'] = df['totalSessionsWon']/df['totalSessionsPlayed']\n",
    "df['averageGoldEarned'] = df['totalGoldEarned']/df['totalSessionsPlayed']"
   ]
  },
  {
   "cell_type": "markdown",
   "metadata": {},
   "source": [
    "As an example, the average assists of the top 5 players from the newly included averageAssists series can be seen below."
   ]
  },
  {
   "cell_type": "code",
   "execution_count": 15,
   "metadata": {
    "collapsed": false,
    "scrolled": true
   },
   "outputs": [
    {
     "data": {
      "text/plain": [
       "0    9.439338\n",
       "1    6.143780\n",
       "2    7.291737\n",
       "3    8.702997\n",
       "4    7.548387\n",
       "Name: averageAssists, dtype: float64"
      ]
     },
     "execution_count": 15,
     "metadata": {},
     "output_type": "execute_result"
    }
   ],
   "source": [
    "df['averageAssists'].head()"
   ]
  },
  {
   "cell_type": "markdown",
   "metadata": {},
   "source": [
    "### Win Rate\n",
    "As the dependent variable of my linear regression model, the win rate variable is explored in the following blocks. Below is a plot of the win rates for all 200 players from highest to lowest rank (left to right)."
   ]
  },
  {
   "cell_type": "code",
   "execution_count": 16,
   "metadata": {
    "collapsed": false,
    "scrolled": true
   },
   "outputs": [
    {
     "data": {
      "text/plain": [
       "<matplotlib.axes._subplots.AxesSubplot at 0x1e76b7b0f60>"
      ]
     },
     "execution_count": 16,
     "metadata": {},
     "output_type": "execute_result"
    },
    {
     "data": {
      "image/png": "[encoded data removed]",
      "text/plain": [
       "<matplotlib.figure.Figure at 0x1e76b3fdb38>"
      ]
     },
     "metadata": {},
     "output_type": "display_data"
    }
   ],
   "source": [
    "df['winRate'].plot()"
   ]
  },
  {
   "cell_type": "markdown",
   "metadata": {},
   "source": [
    "From the descriptive statistics below, it is interesting to note that the win rates of all players in Challenger are above 50%. This makes sense as the ranked positions of all players are reset at the end of each season, and top players must climb the ranked ladder in order to get into Challenger. Thus, successfully winning at least as many games as losses seems like a necessary, but not sufficient condition to make it into Challenger."
   ]
  },
  {
   "cell_type": "code",
   "execution_count": 17,
   "metadata": {
    "collapsed": false,
    "scrolled": true
   },
   "outputs": [
    {
     "data": {
      "text/plain": [
       "count    200.000000\n",
       "mean       0.562747\n",
       "std        0.035235\n",
       "min        0.511966\n",
       "25%        0.537510\n",
       "50%        0.555040\n",
       "75%        0.579916\n",
       "max        0.699659\n",
       "Name: winRate, dtype: float64"
      ]
     },
     "execution_count": 17,
     "metadata": {},
     "output_type": "execute_result"
    }
   ],
   "source": [
    "df['winRate'].describe()"
   ]
  },
  {
   "cell_type": "markdown",
   "metadata": {},
   "source": [
    "Before moving onto the test model, the normality of the distribution of the win rates is evaluated. With a normally distribution, the skewness is 0 (neither skewed to the left or right) and the kurtosis is 3 (\"tailedness\" of the distribution). Since the win rate distribution has a positive skewness and a kurtosis less than 3, the distribution is skewed to the right and has a platykurtic distribution (peak looks flatter). A sample of 200 of the top players in a region is not be expected to be normally distributed, and the skew towards a higher win rate as well as a platykurtic distribution (fewer and less influential outliers) seem to represent this. Nevertheless, a multivariate linear regression will be performed on this dataset despite failing the normality condition. "
   ]
  },
  {
   "cell_type": "code",
   "execution_count": 18,
   "metadata": {
    "collapsed": false
   },
   "outputs": [
    {
     "data": {
      "text/plain": [
       "1.2270547412733261"
      ]
     },
     "execution_count": 18,
     "metadata": {},
     "output_type": "execute_result"
    }
   ],
   "source": [
    "df['winRate'].skew() # positive skewness -> skewed to the right (skewed to higher winrate)"
   ]
  },
  {
   "cell_type": "code",
   "execution_count": 19,
   "metadata": {
    "collapsed": false
   },
   "outputs": [
    {
     "data": {
      "text/plain": [
       "1.8704934902598502"
      ]
     },
     "execution_count": 19,
     "metadata": {},
     "output_type": "execute_result"
    }
   ],
   "source": [
    "df['winRate'].kurt() # kurtosis less than 3 -> platykurtic "
   ]
  },
  {
   "cell_type": "code",
   "execution_count": 20,
   "metadata": {
    "collapsed": false
   },
   "outputs": [
    {
     "name": "stderr",
     "output_type": "stream",
     "text": [
      "C:\\Users\\Chris\\Anaconda3\\lib\\site-packages\\statsmodels\\nonparametric\\kdetools.py:20: VisibleDeprecationWarning: using a non-integer number instead of an integer will result in an error in the future\n",
      "  y = X[:m/2+1] + np.r_[0,X[m/2+1:],0]*1j\n"
     ]
    },
    {
     "data": {
      "text/plain": [
       "<matplotlib.axes._subplots.AxesSubplot at 0x1e76be367b8>"
      ]
     },
     "execution_count": 20,
     "metadata": {},
     "output_type": "execute_result"
    },
    {
     "data": {
      "image/png": "[encoded data removed]",
      "text/plain": [
       "<matplotlib.figure.Figure at 0x1e76bde20b8>"
      ]
     },
     "metadata": {},
     "output_type": "display_data"
    }
   ],
   "source": [
    "sns.distplot(df['winRate'], bins=50)"
   ]
  },
  {
   "cell_type": "markdown",
   "metadata": {
    "collapsed": true
   },
   "source": [
    "## Multivariate Linear Regression Models\n",
    "\n",
    "#### Test Model 1\n",
    "\n",
    "`\n",
    "WINRATE = B0 + B1(GOLD) + B2(KDA) + B3(TURRETS) + B4(DIFF) + B5(GAMES)\n",
    "`\n",
    "\n",
    "- WINRATE: winRate\n",
    "- B0 : intercept\n",
    "- B1 to B5 : coefficients\n",
    "- GOLD : averageGoldEarned\n",
    "- KDA : kda; kill-death-assist ratio; (average kills + average assists)/average deaths\n",
    "- TURRETS : averageTurretsKilled\n",
    "- DIFF : averageDamageDifferential; (damage dealt - damage taken + total healing)/games played\n",
    "- GAMES : totalSessionsPlayed\n",
    "\n",
    "### Expectations\n",
    "- GOLD is expected to have a positive effect on WINRATE; a higher GOLD value expresses that a player should be more influential in an average game (can buy more wards, have more of their build completed, etc.)\n",
    "- KDA is expected to have a positive effect on WINRATE; a higher KDA value should indirectly help a team achieve their goals (greater participation in kills, dying less to the enemy team)\n",
    "- TURRETS is expected to have a positive effect on WINRATE; a higher TURRETS value can be seen as a player being more objective-focused\n",
    "- DIFF is expected to have a positive effect on WINRATE; a higher DIFF value suggests being more useful to a team (dealing more damage than taken and/or providing healing)\n",
    "- GAMES is expected to have a negative effect on WINRATE; a higher GAMES value can lead to a more stable WINRATE (more solidified win rate that tends to be lower)"
   ]
  },
  {
   "cell_type": "code",
   "execution_count": 21,
   "metadata": {
    "collapsed": false
   },
   "outputs": [],
   "source": [
    "df['kda'] = (df['averageAssists'] + df['averageKills'])/df['averageDeaths']\n",
    "df['averageTurretsKilled'] = df['totalTurretsKilled']/df['totalSessionsPlayed']\n",
    "df['averageDamageDifferential'] = (df['totalDamageDealt'] - df['totalDamageTaken'] + df['totalHeal'])/df['totalSessionsPlayed']"
   ]
  },
  {
   "cell_type": "code",
   "execution_count": 22,
   "metadata": {
    "collapsed": false
   },
   "outputs": [
    {
     "data": {
      "text/plain": [
       "(200, 63)"
      ]
     },
     "execution_count": 22,
     "metadata": {},
     "output_type": "execute_result"
    }
   ],
   "source": [
    "df.shape #200 players, 63 columns (7 added, 1 overwritten)"
   ]
  },
  {
   "cell_type": "markdown",
   "metadata": {},
   "source": [
    "### Scatterplots\n",
    "Below are the scatterplots of each independent variable against win rate. They should help to visualize any relationships that arise within the data."
   ]
  },
  {
   "cell_type": "markdown",
   "metadata": {},
   "source": [
    "#### Average Gold Earned vs. Win Rate\n",
    "Based on the plot below, the win rate range seems to widen as the average gold earned increases. Additionally, the players with the highest win rates tend to have average gold earned between 11,000 to 13,000. It is important to note that games do vary in length (like when SKT steamrolled Royal Club in the [Season 3 World Championship Finals](https://www.reddit.com/r/leagueoflegends/comments/1nrufd/spoiler_royal_club_vs_sk_telecom_t1_postmatch/)), so the average gold earned can also vary."
   ]
  },
  {
   "cell_type": "code",
   "execution_count": 23,
   "metadata": {
    "collapsed": false,
    "scrolled": false
   },
   "outputs": [
    {
     "data": {
      "text/plain": [
       "<matplotlib.text.Text at 0x1e76d5bd278>"
      ]
     },
     "execution_count": 23,
     "metadata": {},
     "output_type": "execute_result"
    },
    {
     "data": {
      "image/png": "[encoded data removed]",
      "text/plain": [
       "<matplotlib.figure.Figure at 0x1e76befc278>"
      ]
     },
     "metadata": {},
     "output_type": "display_data"
    }
   ],
   "source": [
    "fig, ax = plt.subplots()\n",
    "ax.scatter(df['winRate'], df['averageGoldEarned'])\n",
    "ax.set_title('Average Gold Earned vs. Win Rate', loc='left', fontsize=14)\n",
    "ax.set_xlabel('Win Rate')\n",
    "ax.set_ylabel('Average Gold Earned')"
   ]
  },
  {
   "cell_type": "markdown",
   "metadata": {},
   "source": [
    "#### KDA Ratio vs. Win Rate\n",
    "Based on the plot below, the KDAs and win rates of most players seem to be clustered in the bottom left. As the KDA Ratio increases, there seems to be an upward trend in win rate. It should be noted that having a high KDA does not necessarily lead to a greater win rate, as being too aggressive or not focusing on objectives enough may be detrimental to a team's success."
   ]
  },
  {
   "cell_type": "code",
   "execution_count": 24,
   "metadata": {
    "collapsed": false,
    "scrolled": true
   },
   "outputs": [
    {
     "data": {
      "text/plain": [
       "<matplotlib.text.Text at 0x1e76d600358>"
      ]
     },
     "execution_count": 24,
     "metadata": {},
     "output_type": "execute_result"
    },
    {
     "data": {
      "image/png": "[encoded data removed]",
      "text/plain": [
       "<matplotlib.figure.Figure at 0x1e76d5c4630>"
      ]
     },
     "metadata": {},
     "output_type": "display_data"
    }
   ],
   "source": [
    "fig, ax = plt.subplots()\n",
    "ax.scatter(df['winRate'], df['kda'])\n",
    "ax.set_title('KDA Ratio vs. Win Rate', loc='left', fontsize=14)\n",
    "ax.set_xlabel('Win Rate')\n",
    "ax.set_ylabel('KDA Ratio')"
   ]
  },
  {
   "cell_type": "markdown",
   "metadata": {},
   "source": [
    "#### Average Turrets Killed vs. Win Rate\n",
    "Based on the plot below, it does not seem like the average turrets killed correlates with win rate. Players can also contribute to the team's victory without needing to kill a turret personally (such as letting minions finish off a turret after a push or having a laning partner take the turret)."
   ]
  },
  {
   "cell_type": "code",
   "execution_count": 25,
   "metadata": {
    "collapsed": false
   },
   "outputs": [
    {
     "data": {
      "text/plain": [
       "<matplotlib.text.Text at 0x1e76d651588>"
      ]
     },
     "execution_count": 25,
     "metadata": {},
     "output_type": "execute_result"
    },
    {
     "data": {
      "image/png": "[encoded data removed]",
      "text/plain": [
       "<matplotlib.figure.Figure at 0x1e76d63fe80>"
      ]
     },
     "metadata": {},
     "output_type": "display_data"
    }
   ],
   "source": [
    "fig, ax = plt.subplots()\n",
    "ax.scatter(df['winRate'], df['averageTurretsKilled'])\n",
    "ax.set_title('Average Turrets Killed vs. Win Rate', loc='left', fontsize=14)\n",
    "ax.set_xlabel('Win Rate')\n",
    "ax.set_ylabel('Average Turrets Killed')"
   ]
  },
  {
   "cell_type": "markdown",
   "metadata": {},
   "source": [
    "#### Average Damage Differential vs. Win Rate\n",
    "Based on the plot below, most of the data points seem to be clustered within the average damage differential range of 100,000 to 150,000. Aside from a few data points, it seems that the players with the highest win rates tend to be within that range. Players below that range seem to have win rates on the lower end of the spectrum, suggesting that they may not be contributing enough (in team fights or being effective in their particular roles). It is important to note that certain roles are not expected to contribute as much in terms of damage output, so a support main can still have a high WINRATE value despite having a consistently low DIFF."
   ]
  },
  {
   "cell_type": "code",
   "execution_count": 26,
   "metadata": {
    "collapsed": false
   },
   "outputs": [
    {
     "data": {
      "text/plain": [
       "<matplotlib.text.Text at 0x1e76d695ef0>"
      ]
     },
     "execution_count": 26,
     "metadata": {},
     "output_type": "execute_result"
    },
    {
     "data": {
      "image/png": "[encoded data removed]",
      "text/plain": [
       "<matplotlib.figure.Figure at 0x1e76d65ae10>"
      ]
     },
     "metadata": {},
     "output_type": "display_data"
    }
   ],
   "source": [
    "fig, ax = plt.subplots()\n",
    "ax.scatter(df['winRate'], df['averageDamageDifferential'])\n",
    "ax.set_title('Average Damage Differential vs. Win Rate', loc='left', fontsize=14)\n",
    "ax.set_xlabel('Win Rate')\n",
    "ax.set_ylabel('Average Damage Differential')"
   ]
  },
  {
   "cell_type": "markdown",
   "metadata": {},
   "source": [
    "#### Games Played vs. Win Rate\n",
    "This plot expresses that the number of games played is inversely proportional to a player's win rate. As the number of games a player plays increases, that player's respective win rate decreases, approaching the lower limit of 50%. This relationship seems to make sense given the pool of NA Challenger players. With fewer ranked games played, a Challenger player has a greater portion of games played at lower tiers due to climbing the ranked ladder, so that player's win rate would be higher. Additionally, players on win streaks can climb the ladder faster, and can enter into Challenger with a higher than average win rate."
   ]
  },
  {
   "cell_type": "code",
   "execution_count": 27,
   "metadata": {
    "collapsed": false
   },
   "outputs": [
    {
     "data": {
      "text/plain": [
       "<matplotlib.text.Text at 0x1e76d6da8d0>"
      ]
     },
     "execution_count": 27,
     "metadata": {},
     "output_type": "execute_result"
    },
    {
     "data": {
      "image/png": "[encoded data removed]",
      "text/plain": [
       "<matplotlib.figure.Figure at 0x1e76d655588>"
      ]
     },
     "metadata": {},
     "output_type": "display_data"
    }
   ],
   "source": [
    "fig, ax = plt.subplots()\n",
    "ax.scatter(df['winRate'], df['totalSessionsPlayed'])\n",
    "ax.set_title('Games Played vs. Win Rate', loc='left', fontsize=14)\n",
    "ax.set_xlabel('Win Rate')\n",
    "ax.set_ylabel('Games Played')"
   ]
  },
  {
   "cell_type": "markdown",
   "metadata": {},
   "source": [
    "## OLS Regression\n",
    "Based on the test model established before\n",
    "\n",
    "#### Test Model 1\n",
    "\n",
    "`\n",
    "WINRATE = B0 + B1(GOLD) + B2(KDA) + B3(TURRETS) + B4(DIFF) + B5(GAMES)\n",
    "`\n",
    "\n",
    "regression output using the Ordinary Least Squares method is generated below using the StatsModel module. The \"winRate\" is passed as the dependent variable while the other variables are passed as independent variables in the \"model\" argument string.\n"
   ]
  },
  {
   "cell_type": "code",
   "execution_count": 28,
   "metadata": {
    "collapsed": false
   },
   "outputs": [
    {
     "data": {
      "text/html": [
       "<table class=\"simpletable\">\n",
       "<caption>OLS Regression Results</caption>\n",
       "<tr>\n",
       "  <th>Dep. Variable:</th>         <td>winRate</td>     <th>  R-squared:         </th> <td>   0.559</td>\n",
       "</tr>\n",
       "<tr>\n",
       "  <th>Model:</th>                   <td>OLS</td>       <th>  Adj. R-squared:    </th> <td>   0.547</td>\n",
       "</tr>\n",
       "<tr>\n",
       "  <th>Method:</th>             <td>Least Squares</td>  <th>  F-statistic:       </th> <td>   49.14</td>\n",
       "</tr>\n",
       "<tr>\n",
       "  <th>Date:</th>             <td>Thu, 11 May 2017</td> <th>  Prob (F-statistic):</th> <td>1.06e-32</td>\n",
       "</tr>\n",
       "<tr>\n",
       "  <th>Time:</th>                 <td>21:37:30</td>     <th>  Log-Likelihood:    </th> <td>  467.68</td>\n",
       "</tr>\n",
       "<tr>\n",
       "  <th>No. Observations:</th>      <td>   200</td>      <th>  AIC:               </th> <td>  -923.4</td>\n",
       "</tr>\n",
       "<tr>\n",
       "  <th>Df Residuals:</th>          <td>   194</td>      <th>  BIC:               </th> <td>  -903.6</td>\n",
       "</tr>\n",
       "<tr>\n",
       "  <th>Df Model:</th>              <td>     5</td>      <th>                     </th>     <td> </td>   \n",
       "</tr>\n",
       "<tr>\n",
       "  <th>Covariance Type:</th>      <td>nonrobust</td>    <th>                     </th>     <td> </td>   \n",
       "</tr>\n",
       "</table>\n",
       "<table class=\"simpletable\">\n",
       "<tr>\n",
       "              <td></td>                 <th>coef</th>     <th>std err</th>      <th>t</th>      <th>P>|t|</th> <th>[95.0% Conf. Int.]</th> \n",
       "</tr>\n",
       "<tr>\n",
       "  <th>Intercept</th>                 <td>    0.5016</td> <td>    0.046</td> <td>   10.849</td> <td> 0.000</td> <td>    0.410     0.593</td>\n",
       "</tr>\n",
       "<tr>\n",
       "  <th>averageGoldEarned</th>         <td> 3.407e-06</td> <td> 4.79e-06</td> <td>    0.712</td> <td> 0.477</td> <td>-6.03e-06  1.28e-05</td>\n",
       "</tr>\n",
       "<tr>\n",
       "  <th>kda</th>                       <td>    0.0180</td> <td>    0.004</td> <td>    5.016</td> <td> 0.000</td> <td>    0.011     0.025</td>\n",
       "</tr>\n",
       "<tr>\n",
       "  <th>averageTurretsKilled</th>      <td>    0.0175</td> <td>    0.007</td> <td>    2.617</td> <td> 0.010</td> <td>    0.004     0.031</td>\n",
       "</tr>\n",
       "<tr>\n",
       "  <th>averageDamageDifferential</th> <td>-5.839e-08</td> <td> 1.25e-07</td> <td>   -0.468</td> <td> 0.641</td> <td>-3.05e-07  1.88e-07</td>\n",
       "</tr>\n",
       "<tr>\n",
       "  <th>totalSessionsPlayed</th>       <td>-9.006e-05</td> <td> 7.32e-06</td> <td>  -12.310</td> <td> 0.000</td> <td>   -0.000 -7.56e-05</td>\n",
       "</tr>\n",
       "</table>\n",
       "<table class=\"simpletable\">\n",
       "<tr>\n",
       "  <th>Omnibus:</th>       <td>53.654</td> <th>  Durbin-Watson:     </th> <td>   2.084</td>\n",
       "</tr>\n",
       "<tr>\n",
       "  <th>Prob(Omnibus):</th> <td> 0.000</td> <th>  Jarque-Bera (JB):  </th> <td> 110.346</td>\n",
       "</tr>\n",
       "<tr>\n",
       "  <th>Skew:</th>          <td> 1.270</td> <th>  Prob(JB):          </th> <td>1.09e-24</td>\n",
       "</tr>\n",
       "<tr>\n",
       "  <th>Kurtosis:</th>      <td> 5.606</td> <th>  Cond. No.          </th> <td>3.20e+06</td>\n",
       "</tr>\n",
       "</table>"
      ],
      "text/plain": [
       "<class 'statsmodels.iolib.summary.Summary'>\n",
       "\"\"\"\n",
       "                            OLS Regression Results                            \n",
       "==============================================================================\n",
       "Dep. Variable:                winRate   R-squared:                       0.559\n",
       "Model:                            OLS   Adj. R-squared:                  0.547\n",
       "Method:                 Least Squares   F-statistic:                     49.14\n",
       "Date:                Thu, 11 May 2017   Prob (F-statistic):           1.06e-32\n",
       "Time:                        21:37:30   Log-Likelihood:                 467.68\n",
       "No. Observations:                 200   AIC:                            -923.4\n",
       "Df Residuals:                     194   BIC:                            -903.6\n",
       "Df Model:                           5                                         \n",
       "Covariance Type:            nonrobust                                         \n",
       "=============================================================================================\n",
       "                                coef    std err          t      P>|t|      [95.0% Conf. Int.]\n",
       "---------------------------------------------------------------------------------------------\n",
       "Intercept                     0.5016      0.046     10.849      0.000         0.410     0.593\n",
       "averageGoldEarned          3.407e-06   4.79e-06      0.712      0.477     -6.03e-06  1.28e-05\n",
       "kda                           0.0180      0.004      5.016      0.000         0.011     0.025\n",
       "averageTurretsKilled          0.0175      0.007      2.617      0.010         0.004     0.031\n",
       "averageDamageDifferential -5.839e-08   1.25e-07     -0.468      0.641     -3.05e-07  1.88e-07\n",
       "totalSessionsPlayed       -9.006e-05   7.32e-06    -12.310      0.000        -0.000 -7.56e-05\n",
       "==============================================================================\n",
       "Omnibus:                       53.654   Durbin-Watson:                   2.084\n",
       "Prob(Omnibus):                  0.000   Jarque-Bera (JB):              110.346\n",
       "Skew:                           1.270   Prob(JB):                     1.09e-24\n",
       "Kurtosis:                       5.606   Cond. No.                     3.20e+06\n",
       "==============================================================================\n",
       "\n",
       "Warnings:\n",
       "[1] Standard Errors assume that the covariance matrix of the errors is correctly specified.\n",
       "[2] The condition number is large, 3.2e+06. This might indicate that there are\n",
       "strong multicollinearity or other numerical problems.\n",
       "\"\"\""
      ]
     },
     "execution_count": 28,
     "metadata": {},
     "output_type": "execute_result"
    }
   ],
   "source": [
    "model = 'winRate ~ averageGoldEarned + kda + averageTurretsKilled + averageDamageDifferential + totalSessionsPlayed'\n",
    "results = smf.ols(model, data=df).fit()\n",
    "results.summary()"
   ]
  },
  {
   "cell_type": "markdown",
   "metadata": {},
   "source": [
    "### Test Model 1 Analysis\n",
    "\n",
    "#### Test Model 1:\n",
    "\n",
    "`\n",
    "WINRATE = 0.5016 + 0.000003407(GOLD) + 0.0180(KDA) + 0.0175(TURRETS) - 0.00000005839(DIFF) - 0.00009006(GAMES)\n",
    "`\n",
    "\n",
    "From our regression results, the R-squared statistic of 0.559 expresses that 55.9% of the variability in the data is accounted for in the linear regression model. Adjusting for the number of predictors within the model, the adjusted R-squared statistic is 0.547 or 54.7%. Through these r-squared values, the regression results seem to suggest that the model is somewhat good at explaining the variability in the data. Nevertheless, a couple of the explanatory variables within the model have insignificant t-values and high p-values. A high r-squared statistic and a few significant t-values suggest that the model might be suffering from a classical case of multicollinearity (two or more predictor values are highly correlated). To deal with multicollinearity, variables that are insignificant will be dropped in the second test model.\n",
    "\n",
    "The variables with insignificant t-values and high p-values are GOLD and DIFF\n",
    "\n",
    "(`\n",
    "194 degrees of freedom: |t-values| < approx. 2, p-values > alpha of 0.05\n",
    "` | [t-value table](http://www.sjsu.edu/faculty/gerstman/StatPrimer/t-table.pdf) ). \n",
    "\n",
    "In turn, the second test model will only have the following independent variables: KDA, TURRETS, GAMES.\n",
    "\n",
    "#### Test Model 2:\n",
    "\n",
    "`\n",
    "WINRATE = B0 + B1(KDA) + B2(TURRETS) + B3(GAMES)\n",
    "`"
   ]
  },
  {
   "cell_type": "code",
   "execution_count": 29,
   "metadata": {
    "collapsed": false
   },
   "outputs": [
    {
     "data": {
      "text/html": [
       "<table class=\"simpletable\">\n",
       "<caption>OLS Regression Results</caption>\n",
       "<tr>\n",
       "  <th>Dep. Variable:</th>         <td>winRate</td>     <th>  R-squared:         </th> <td>   0.558</td>\n",
       "</tr>\n",
       "<tr>\n",
       "  <th>Model:</th>                   <td>OLS</td>       <th>  Adj. R-squared:    </th> <td>   0.551</td>\n",
       "</tr>\n",
       "<tr>\n",
       "  <th>Method:</th>             <td>Least Squares</td>  <th>  F-statistic:       </th> <td>   82.31</td>\n",
       "</tr>\n",
       "<tr>\n",
       "  <th>Date:</th>             <td>Thu, 11 May 2017</td> <th>  Prob (F-statistic):</th> <td>1.67e-34</td>\n",
       "</tr>\n",
       "<tr>\n",
       "  <th>Time:</th>                 <td>21:37:34</td>     <th>  Log-Likelihood:    </th> <td>  467.39</td>\n",
       "</tr>\n",
       "<tr>\n",
       "  <th>No. Observations:</th>      <td>   200</td>      <th>  AIC:               </th> <td>  -926.8</td>\n",
       "</tr>\n",
       "<tr>\n",
       "  <th>Df Residuals:</th>          <td>   196</td>      <th>  BIC:               </th> <td>  -913.6</td>\n",
       "</tr>\n",
       "<tr>\n",
       "  <th>Df Model:</th>              <td>     3</td>      <th>                     </th>     <td> </td>   \n",
       "</tr>\n",
       "<tr>\n",
       "  <th>Covariance Type:</th>      <td>nonrobust</td>    <th>                     </th>     <td> </td>   \n",
       "</tr>\n",
       "</table>\n",
       "<table class=\"simpletable\">\n",
       "<tr>\n",
       "            <td></td>              <th>coef</th>     <th>std err</th>      <th>t</th>      <th>P>|t|</th> <th>[95.0% Conf. Int.]</th> \n",
       "</tr>\n",
       "<tr>\n",
       "  <th>Intercept</th>            <td>    0.5337</td> <td>    0.014</td> <td>   37.123</td> <td> 0.000</td> <td>    0.505     0.562</td>\n",
       "</tr>\n",
       "<tr>\n",
       "  <th>kda</th>                  <td>    0.0175</td> <td>    0.004</td> <td>    4.990</td> <td> 0.000</td> <td>    0.011     0.024</td>\n",
       "</tr>\n",
       "<tr>\n",
       "  <th>averageTurretsKilled</th> <td>    0.0203</td> <td>    0.005</td> <td>    4.118</td> <td> 0.000</td> <td>    0.011     0.030</td>\n",
       "</tr>\n",
       "<tr>\n",
       "  <th>totalSessionsPlayed</th>  <td>-9.076e-05</td> <td> 7.21e-06</td> <td>  -12.582</td> <td> 0.000</td> <td>   -0.000 -7.65e-05</td>\n",
       "</tr>\n",
       "</table>\n",
       "<table class=\"simpletable\">\n",
       "<tr>\n",
       "  <th>Omnibus:</th>       <td>52.380</td> <th>  Durbin-Watson:     </th> <td>   2.080</td>\n",
       "</tr>\n",
       "<tr>\n",
       "  <th>Prob(Omnibus):</th> <td> 0.000</td> <th>  Jarque-Bera (JB):  </th> <td> 105.426</td>\n",
       "</tr>\n",
       "<tr>\n",
       "  <th>Skew:</th>          <td> 1.251</td> <th>  Prob(JB):          </th> <td>1.28e-23</td>\n",
       "</tr>\n",
       "<tr>\n",
       "  <th>Kurtosis:</th>      <td> 5.528</td> <th>  Cond. No.          </th> <td>4.84e+03</td>\n",
       "</tr>\n",
       "</table>"
      ],
      "text/plain": [
       "<class 'statsmodels.iolib.summary.Summary'>\n",
       "\"\"\"\n",
       "                            OLS Regression Results                            \n",
       "==============================================================================\n",
       "Dep. Variable:                winRate   R-squared:                       0.558\n",
       "Model:                            OLS   Adj. R-squared:                  0.551\n",
       "Method:                 Least Squares   F-statistic:                     82.31\n",
       "Date:                Thu, 11 May 2017   Prob (F-statistic):           1.67e-34\n",
       "Time:                        21:37:34   Log-Likelihood:                 467.39\n",
       "No. Observations:                 200   AIC:                            -926.8\n",
       "Df Residuals:                     196   BIC:                            -913.6\n",
       "Df Model:                           3                                         \n",
       "Covariance Type:            nonrobust                                         \n",
       "========================================================================================\n",
       "                           coef    std err          t      P>|t|      [95.0% Conf. Int.]\n",
       "----------------------------------------------------------------------------------------\n",
       "Intercept                0.5337      0.014     37.123      0.000         0.505     0.562\n",
       "kda                      0.0175      0.004      4.990      0.000         0.011     0.024\n",
       "averageTurretsKilled     0.0203      0.005      4.118      0.000         0.011     0.030\n",
       "totalSessionsPlayed  -9.076e-05   7.21e-06    -12.582      0.000        -0.000 -7.65e-05\n",
       "==============================================================================\n",
       "Omnibus:                       52.380   Durbin-Watson:                   2.080\n",
       "Prob(Omnibus):                  0.000   Jarque-Bera (JB):              105.426\n",
       "Skew:                           1.251   Prob(JB):                     1.28e-23\n",
       "Kurtosis:                       5.528   Cond. No.                     4.84e+03\n",
       "==============================================================================\n",
       "\n",
       "Warnings:\n",
       "[1] Standard Errors assume that the covariance matrix of the errors is correctly specified.\n",
       "[2] The condition number is large, 4.84e+03. This might indicate that there are\n",
       "strong multicollinearity or other numerical problems.\n",
       "\"\"\""
      ]
     },
     "execution_count": 29,
     "metadata": {},
     "output_type": "execute_result"
    }
   ],
   "source": [
    "model2 = 'winRate ~ kda + averageTurretsKilled + totalSessionsPlayed'\n",
    "results2 = smf.ols(model2, data=df).fit()\n",
    "results2.summary()"
   ]
  },
  {
   "cell_type": "markdown",
   "metadata": {},
   "source": [
    "### Test Model 2 Analysis\n",
    "\n",
    "#### Test Model 2:\n",
    "\n",
    "`\n",
    "WINRATE = 0.5337 + 0.0175(KDA) + 0.0203(TURRETS) - 0.00009076(GAMES)\n",
    "`\n",
    "\n",
    "Using the second test model, there is a slight drop in r-squared from 0.559 to 0.558 as well as a slight increase in adjusted r-squared from 0.547 to 0.551, suggesting that this model is better at explaining the variability in the data than the first test model.\n",
    "\n",
    "Moreover, given the Durbin-Watson of 2.080, we do not reject the null hypothesis of no autocorrelation.\n",
    "\n",
    "(`\n",
    "196 degrees of freedom, 3 regressors excluding intercept: 1.704 < DW value of 2.080 < 2.296\n",
    "` | [durbin-watson tables](https://www3.nd.edu/~wevans1/econ30331/Durbin_Watson_tables.pdf) )"
   ]
  },
  {
   "cell_type": "markdown",
   "metadata": {},
   "source": [
    "## Conclusion\n",
    "\n",
    "### Regression Model Analysis\n",
    "Based on the second test model, it is noted that KDA and TURRETS have a positive correlation with WINRATE, while GAMES has a negative correlation with WINRATE. Since the OLS regression expresses a high r-squared statistic of 0.558 and adjusted r-squared of 0.551, it can be argued that this model can effectively explain the win rates of NA Challenger players. By having a high KDA ratio, a high number of turrets killed on average, and low amount of games, a Challenger player is expected to have a relatively high win rate. The results expressed seem to fall in line with the expectations outlined earlier, but it was interesting to see that GOLD and DIFF were not significant variables within the model. This may be due to multicollinearity, which is not explored in this project. For instance, KDA and GOLD should be correlated, since getting kills and assists add to a player's gold count. In the scatterplot \"Average Turrets Killed vs. Win Rate,\" while there appeared to not be any correlation between TURRETS and WINRATE, it seemed that such was not the case as TURRETS had a significant, positive relationship with WINRATE. Finally, in the scatterplot \"Games Played vs. Win Rate,\" the inverse relationship between GAMES and WINRATE was distinctly expressed, and had the largest (absolute) t-value of the independent variables.\n",
    "\n",
    "### Final Thoughts\n",
    "From this experiment, nothing particularly ground-breaking was found. It is not surprising that a player's KDA ratio, average turrets killed, and games played does reflect on that player's ranked win rate. For more meaningful insights, data can be drawn from the ranked matches that a player has played, but retrieving that information for 200 players would take significantly more time and work beyond the scope of this project. Additionally, this experiment can be made more rigorous by including White's General Test for Heteroskedasticity, omitted variable tests, influence statistics, and other tests/measures. Thank you for spending the time to read this, and I hope this was enjoyable!\n",
    "\n",
    "[( ͡° ͜ʖ ͡°)](https://www.youtube.com/watch?v=XdN67NuhMW4)"
   ]
  },
  {
   "cell_type": "code",
   "execution_count": null,
   "metadata": {
    "collapsed": true
   },
   "outputs": [],
   "source": []
  }
 ],
 "metadata": {
  "anaconda-cloud": {},
  "kernelspec": {
   "display_name": "Python [Root]",
   "language": "python",
   "name": "Python [Root]"
  },
  "language_info": {
   "codemirror_mode": {
    "name": "ipython",
    "version": 3
   },
   "file_extension": ".py",
   "mimetype": "text/x-python",
   "name": "python",
   "nbconvert_exporter": "python",
   "pygments_lexer": "ipython3",
   "version": "3.5.2"
  }
 },
 "nbformat": 4,
 "nbformat_minor": 0
}
